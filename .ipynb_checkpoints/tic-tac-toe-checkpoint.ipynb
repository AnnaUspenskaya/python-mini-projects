{
 "cells": [
  {
   "cell_type": "code",
   "execution_count": 33,
   "id": "49bd0e0d-a090-41bb-9d61-e609b75f6e15",
   "metadata": {},
   "outputs": [],
   "source": [
    "# Global Variables\n",
    "board = [' ']*9\n",
    "players = {}"
   ]
  },
  {
   "cell_type": "code",
   "execution_count": 37,
   "id": "7f038a78-930b-4683-bc84-a46c1c9ec9b3",
   "metadata": {},
   "outputs": [],
   "source": [
    "# Checking if the slected position is available \n",
    "def space_check(board, position):\n",
    "        return board[position] == ' '"
   ]
  },
  {
   "cell_type": "code",
   "execution_count": 39,
   "id": "e8b8c737-518b-45a1-81f5-ee4e5fa0f7b2",
   "metadata": {},
   "outputs": [],
   "source": [
    "# Display player's turn message \n",
    "def get_name(marker): \n",
    "    print(f\"{players[marker]}, it's your turn!\")\n"
   ]
  },
  {
   "cell_type": "code",
   "execution_count": 41,
   "id": "234da1cb-b1c5-4d5c-8797-ff67d3a2f3c9",
   "metadata": {},
   "outputs": [],
   "source": [
    "# Selecting position for the marker \n",
    "def position_choice():   \n",
    "    acceptable_range = range (1,10)\n",
    "    print(f\"{players[get_marker()]}, it's your turn!\")\n",
    "    while True:\n",
    "        choice = input(\"Please pick a number (1-9): \")\n",
    "        if not choice.isdigit():\n",
    "            print(\"Please enter a DIGIT for the marker position\")\n",
    "            continue\n",
    "        choice = int(choice)\n",
    "        if choice not in acceptable_range:\n",
    "            print(\"Please enter a number from 1 to 9\")\n",
    "            continue\n",
    "        if not space_check(board, choice-1):\n",
    "             print(\"This position is already taken. Choose another position.\")  \n",
    "             continue\n",
    "        return int(choice)"
   ]
  },
  {
   "cell_type": "code",
   "execution_count": 43,
   "id": "c0164896-35a3-4250-a445-f6d42c7a55d6",
   "metadata": {},
   "outputs": [],
   "source": [
    "# Welcome message\n",
    "def welcome_banner():\n",
    "    print(\"\\n===== Welcome to the Tic Tac Toe Game =====\\n\")"
   ]
  },
  {
   "cell_type": "code",
   "execution_count": 45,
   "id": "7db88d66-eb3e-4b13-b584-16c3a7c976d4",
   "metadata": {},
   "outputs": [],
   "source": [
    "# Getting players' names \n",
    "def player_name(str):\n",
    "    name =''\n",
    "    while name.strip()=='':\n",
    "        name=input(f\"What's your name {str} ? \").strip()\n",
    "    return name\n",
    "    \n",
    "# Display welcome message for players \n",
    "def welcome_players(player1, player2):\n",
    "    print(\"-\"*40)\n",
    "    print(f\"Welcome to the game {player1} and {player2}\")\n",
    "    print(\"-\"*40)"
   ]
  },
  {
   "cell_type": "code",
   "execution_count": 47,
   "id": "193e48b9-0a21-4884-80fb-346aea9857e6",
   "metadata": {},
   "outputs": [],
   "source": [
    "# Board display\n",
    "def display_board(board):\n",
    "    print(f\" {board[6]} | {board[7]} | {board[8]} \")\n",
    "    print(\"---|---|---\")\n",
    "    print(f\" {board[3]} | {board[4]} | {board[5]} \")\n",
    "    print(\"---|---|---\")\n",
    "    print(f\" {board[0]} | {board[1]} | {board[2]} \")"
   ]
  },
  {
   "cell_type": "code",
   "execution_count": 49,
   "id": "2754bb93-19fd-47aa-86a5-1b35cc49dadc",
   "metadata": {},
   "outputs": [],
   "source": [
    "# Asking the player#1 to pick the marker, and deciding who is first to make a move \n",
    "def marker_pick(player1, player2):\n",
    "    marker = ''\n",
    "    while marker.upper() not in ('X', 'O'):\n",
    "        marker = input(f\"{player1}, please pick a marker 'X' or 'O'\")\n",
    "        if marker.upper() not in ('X', 'O'):\n",
    "            print(\"The marker can be 'X' or 'O'\")\n",
    "            continue\n",
    "    if marker.upper() == 'X':\n",
    "        print(f\"{player1} you will go first\")\n",
    "        players['X'] = player1\n",
    "        players['O'] = player2\n",
    "    else:\n",
    "        print(f\"{player2} you will go first\")\n",
    "        players['X'] = player2\n",
    "        players['O'] = player1\n",
    "# Display the board with position numbers \n",
    "def first_board_show():\n",
    "    print(\" 7 | 8 | 9 \")\n",
    "    print(\"---|---|---\")\n",
    "    print(\" 4 | 5 | 6 \")\n",
    "    print(\"---|---|---\")\n",
    "    print(\" 1 | 2 | 3 \")\n"
   ]
  },
  {
   "cell_type": "code",
   "execution_count": 51,
   "id": "68947153-a53c-4275-9ede-d0934003025f",
   "metadata": {},
   "outputs": [],
   "source": [
    "# Place a marker on the board\n",
    "def place_marker(board, marker, position):\n",
    "    board[position-1] = marker.upper()\n"
   ]
  },
  {
   "cell_type": "code",
   "execution_count": 53,
   "id": "a8ddf36f-fe2b-4121-b87f-d8b6b8de62a4",
   "metadata": {},
   "outputs": [],
   "source": [
    "# Checking if there is a winner \n",
    "def win_check(board, marker):\n",
    "    return (\n",
    "        (board[0] == board[1] == board[2] == marker) or  # Top row\n",
    "        (board[3] == board[4] == board[5] == marker) or  # Middle row\n",
    "        (board[6] == board[7] == board[8] == marker) or  # Bottom row\n",
    "        (board[0] == board[3] == board[6] == marker) or  # Left column\n",
    "        (board[1] == board[4] == board[7] == marker) or  # Middle column\n",
    "        (board[2] == board[5] == board[8] == marker) or  # Right column\n",
    "        (board[0] == board[4] == board[8] == marker) or  # Diagonal \n",
    "        (board[2] == board[4] == board[6] == marker)     # Diagonal \n",
    "    )\n"
   ]
  },
  {
   "cell_type": "code",
   "execution_count": 55,
   "id": "ca4c11f5-b503-4d4c-a491-f87ce863a7e1",
   "metadata": {},
   "outputs": [],
   "source": [
    "# Determine which marker palays next \n",
    "def get_marker():\n",
    "    empty = board.count(' ')\n",
    "    if empty % 2 != 0:\n",
    "        return 'X'\n",
    "    else:\n",
    "        return 'O'\n"
   ]
  },
  {
   "cell_type": "code",
   "execution_count": 57,
   "id": "6f105535-46fa-4b08-ac15-896714cda36a",
   "metadata": {},
   "outputs": [],
   "source": [
    "# Continue the game until there is a winner or tie \n",
    "def game_on():\n",
    "    first_board_show()\n",
    "    win = False \n",
    "    while not win:\n",
    "        position = position_choice()\n",
    "        marker = get_marker()\n",
    "        # get_name(marker)\n",
    "        place_marker(board, marker , position)\n",
    "        display_board(board)\n",
    "        \n",
    "        if win_check(board, marker):\n",
    "            print(f\"{players[marker]} Wins!\")\n",
    "            win = True\n",
    "        elif board.count(' ')==0:\n",
    "            print (\"It's a tie!\")\n",
    "            win = True"
   ]
  },
  {
   "cell_type": "code",
   "execution_count": 59,
   "id": "67e3a696-307a-49d8-8dae-a2f25526a92c",
   "metadata": {},
   "outputs": [],
   "source": [
    "# Asking players if they what to play again \n",
    "def play_again():\n",
    "    while True:\n",
    "        repeat = input(\"Do you what to play again? [y/n]\").lower()\n",
    "        if repeat in ('y','n'):\n",
    "            return repeat == 'y'\n",
    "        print(\"Invalid input. Please enter 'y' or 'n'.\")\n",
    "\n",
    "        \n",
    "        "
   ]
  },
  {
   "cell_type": "code",
   "execution_count": 61,
   "id": "04a80263-10e1-441a-bc54-ebea2af78153",
   "metadata": {},
   "outputs": [
    {
     "name": "stdout",
     "output_type": "stream",
     "text": [
      "\n",
      "===== Welcome to the Tic Tac Toe Game =====\n",
      "\n"
     ]
    },
    {
     "name": "stdin",
     "output_type": "stream",
     "text": [
      "What's your name Player#1 ?  Anna\n",
      "What's your name Player#2 ?  sharif\n"
     ]
    },
    {
     "name": "stdout",
     "output_type": "stream",
     "text": [
      "----------------------------------------\n",
      "Welcome to the game Anna and sharif\n",
      "----------------------------------------\n"
     ]
    },
    {
     "name": "stdin",
     "output_type": "stream",
     "text": [
      "Anna, please pick a marker 'X' or 'O' X\n"
     ]
    },
    {
     "name": "stdout",
     "output_type": "stream",
     "text": [
      "Anna you will go first\n",
      " 7 | 8 | 9 \n",
      "---|---|---\n",
      " 4 | 5 | 6 \n",
      "---|---|---\n",
      " 1 | 2 | 3 \n",
      "Anna, it's your turn!\n"
     ]
    },
    {
     "name": "stdin",
     "output_type": "stream",
     "text": [
      "Please pick a number (1-9):  2\n"
     ]
    },
    {
     "name": "stdout",
     "output_type": "stream",
     "text": [
      "   |   |   \n",
      "---|---|---\n",
      "   |   |   \n",
      "---|---|---\n",
      "   | X |   \n",
      "sharif, it's your turn!\n"
     ]
    },
    {
     "name": "stdin",
     "output_type": "stream",
     "text": [
      "Please pick a number (1-9):  4\n"
     ]
    },
    {
     "name": "stdout",
     "output_type": "stream",
     "text": [
      "   |   |   \n",
      "---|---|---\n",
      " O |   |   \n",
      "---|---|---\n",
      "   | X |   \n",
      "Anna, it's your turn!\n"
     ]
    },
    {
     "name": "stdin",
     "output_type": "stream",
     "text": [
      "Please pick a number (1-9):  1\n"
     ]
    },
    {
     "name": "stdout",
     "output_type": "stream",
     "text": [
      "   |   |   \n",
      "---|---|---\n",
      " O |   |   \n",
      "---|---|---\n",
      " X | X |   \n",
      "sharif, it's your turn!\n"
     ]
    },
    {
     "name": "stdin",
     "output_type": "stream",
     "text": [
      "Please pick a number (1-9):  5\n"
     ]
    },
    {
     "name": "stdout",
     "output_type": "stream",
     "text": [
      "   |   |   \n",
      "---|---|---\n",
      " O | O |   \n",
      "---|---|---\n",
      " X | X |   \n",
      "Anna, it's your turn!\n"
     ]
    },
    {
     "name": "stdin",
     "output_type": "stream",
     "text": [
      "Please pick a number (1-9):  3\n"
     ]
    },
    {
     "name": "stdout",
     "output_type": "stream",
     "text": [
      "   |   |   \n",
      "---|---|---\n",
      " O | O |   \n",
      "---|---|---\n",
      " X | X | X \n",
      "Anna Wins!\n"
     ]
    },
    {
     "name": "stdin",
     "output_type": "stream",
     "text": [
      "Do you what to play again? [y/n] y\n",
      "Anna, please pick a marker 'X' or 'O' o\n"
     ]
    },
    {
     "name": "stdout",
     "output_type": "stream",
     "text": [
      "sharif you will go first\n",
      " 7 | 8 | 9 \n",
      "---|---|---\n",
      " 4 | 5 | 6 \n",
      "---|---|---\n",
      " 1 | 2 | 3 \n",
      "sharif, it's your turn!\n"
     ]
    },
    {
     "name": "stdin",
     "output_type": "stream",
     "text": [
      "Please pick a number (1-9):  1\n"
     ]
    },
    {
     "name": "stdout",
     "output_type": "stream",
     "text": [
      "   |   |   \n",
      "---|---|---\n",
      "   |   |   \n",
      "---|---|---\n",
      " X |   |   \n",
      "Anna, it's your turn!\n"
     ]
    },
    {
     "name": "stdin",
     "output_type": "stream",
     "text": [
      "Please pick a number (1-9):  3\n"
     ]
    },
    {
     "name": "stdout",
     "output_type": "stream",
     "text": [
      "   |   |   \n",
      "---|---|---\n",
      "   |   |   \n",
      "---|---|---\n",
      " X |   | O \n",
      "sharif, it's your turn!\n"
     ]
    },
    {
     "name": "stdin",
     "output_type": "stream",
     "text": [
      "Please pick a number (1-9):  2\n"
     ]
    },
    {
     "name": "stdout",
     "output_type": "stream",
     "text": [
      "   |   |   \n",
      "---|---|---\n",
      "   |   |   \n",
      "---|---|---\n",
      " X | X | O \n",
      "Anna, it's your turn!\n"
     ]
    },
    {
     "name": "stdin",
     "output_type": "stream",
     "text": [
      "Please pick a number (1-9):  6\n"
     ]
    },
    {
     "name": "stdout",
     "output_type": "stream",
     "text": [
      "   |   |   \n",
      "---|---|---\n",
      "   |   | O \n",
      "---|---|---\n",
      " X | X | O \n",
      "sharif, it's your turn!\n"
     ]
    },
    {
     "name": "stdin",
     "output_type": "stream",
     "text": [
      "Please pick a number (1-9):  8\n"
     ]
    },
    {
     "name": "stdout",
     "output_type": "stream",
     "text": [
      "   | X |   \n",
      "---|---|---\n",
      "   |   | O \n",
      "---|---|---\n",
      " X | X | O \n",
      "Anna, it's your turn!\n"
     ]
    },
    {
     "name": "stdin",
     "output_type": "stream",
     "text": [
      "Please pick a number (1-9):  9\n"
     ]
    },
    {
     "name": "stdout",
     "output_type": "stream",
     "text": [
      "   | X | O \n",
      "---|---|---\n",
      "   |   | O \n",
      "---|---|---\n",
      " X | X | O \n",
      "Anna Wins!\n"
     ]
    },
    {
     "name": "stdin",
     "output_type": "stream",
     "text": [
      "Do you what to play again? [y/n] n\n"
     ]
    }
   ],
   "source": [
    "# Main game loop\n",
    "def run():\n",
    "    gameon = True\n",
    "    welcome_banner()\n",
    "    player1 = player_name(\"Player#1\")\n",
    "    player2= player_name(\"Player#2\")\n",
    "    welcome_players(player1, player2)\n",
    "    \n",
    "    while gameon:\n",
    "        global board\n",
    "        board = [' '] * 9\n",
    "        marker_pick(player1, player2)\n",
    "        game_on()\n",
    "        gameon = play_again()\n",
    "run()\n",
    "\n",
    "    "
   ]
  },
  {
   "cell_type": "code",
   "execution_count": null,
   "id": "66b8b96a-a9c1-43ca-9afb-120a733a6759",
   "metadata": {},
   "outputs": [],
   "source": []
  },
  {
   "cell_type": "code",
   "execution_count": null,
   "id": "67abdb1c-8eb9-457c-aa51-20e23a6a37a4",
   "metadata": {},
   "outputs": [],
   "source": []
  },
  {
   "cell_type": "markdown",
   "id": "9190b8a7-b817-4bea-b206-4561ef8937be",
   "metadata": {},
   "source": []
  }
 ],
 "metadata": {
  "kernelspec": {
   "display_name": "Python [conda env:base] *",
   "language": "python",
   "name": "conda-base-py"
  },
  "language_info": {
   "codemirror_mode": {
    "name": "ipython",
    "version": 3
   },
   "file_extension": ".py",
   "mimetype": "text/x-python",
   "name": "python",
   "nbconvert_exporter": "python",
   "pygments_lexer": "ipython3",
   "version": "3.12.7"
  }
 },
 "nbformat": 4,
 "nbformat_minor": 5
}
